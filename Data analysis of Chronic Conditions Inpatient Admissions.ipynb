{
 "cells": [
  {
   "cell_type": "code",
   "execution_count": 1,
   "id": "f4b763d2",
   "metadata": {},
   "outputs": [
    {
     "name": "stdout",
     "output_type": "stream",
     "text": [
      "Intel MKL WARNING: Support of Intel(R) Streaming SIMD Extensions 4.2 (Intel(R) SSE4.2) enabled only processors has been deprecated. Intel oneAPI Math Kernel Library 2025.0 will require Intel(R) Advanced Vector Extensions (Intel(R) AVX) instructions.\n",
      "Intel MKL WARNING: Support of Intel(R) Streaming SIMD Extensions 4.2 (Intel(R) SSE4.2) enabled only processors has been deprecated. Intel oneAPI Math Kernel Library 2025.0 will require Intel(R) Advanced Vector Extensions (Intel(R) AVX) instructions.\n"
     ]
    }
   ],
   "source": [
    "import matplotlib.pyplot as plt\n",
    "import numpy as np\n",
    "import pandas as pd\n",
    "%matplotlib inline"
   ]
  },
  {
   "cell_type": "code",
   "execution_count": 2,
   "id": "9939c9ee",
   "metadata": {},
   "outputs": [],
   "source": [
    "data = pd.read_csv(\"Medicaid_Chronic_Conditions__Inpatient_Admissions_and_Emergency_Room_Visits.csv\")"
   ]
  },
  {
   "cell_type": "markdown",
   "id": "5e98759d",
   "metadata": {},
   "source": [
    "## Data inspection\n"
   ]
  },
  {
   "cell_type": "code",
   "execution_count": 3,
   "id": "ff42aab7",
   "metadata": {},
   "outputs": [
    {
     "data": {
      "text/plain": [
       "<pandas.core.groupby.generic.SeriesGroupBy object at 0x7f77885ea850>"
      ]
     },
     "execution_count": 3,
     "metadata": {},
     "output_type": "execute_result"
    }
   ],
   "source": [
    "data.groupby([\"Major Diagnostic Category\"])[ \"Episode Disease Category\"]"
   ]
  },
  {
   "cell_type": "code",
   "execution_count": 4,
   "id": "b2d27a03",
   "metadata": {},
   "outputs": [
    {
     "data": {
      "text/html": [
       "<div>\n",
       "<style scoped>\n",
       "    .dataframe tbody tr th:only-of-type {\n",
       "        vertical-align: middle;\n",
       "    }\n",
       "\n",
       "    .dataframe tbody tr th {\n",
       "        vertical-align: top;\n",
       "    }\n",
       "\n",
       "    .dataframe thead th {\n",
       "        text-align: right;\n",
       "    }\n",
       "</style>\n",
       "<table border=\"1\" class=\"dataframe\">\n",
       "  <thead>\n",
       "    <tr style=\"text-align: right;\">\n",
       "      <th></th>\n",
       "      <th>Year</th>\n",
       "      <th>Zip Code</th>\n",
       "      <th>Primary County</th>\n",
       "      <th>Dual Eligible</th>\n",
       "      <th>Major Diagnostic Category</th>\n",
       "      <th>Episode Disease Category</th>\n",
       "      <th>Beneficiaries with Condition</th>\n",
       "      <th>Beneficiaries with Admissions</th>\n",
       "      <th>Total Inpatient Admissions</th>\n",
       "      <th>Beneficiaries with ER Visits</th>\n",
       "      <th>Total ER Visits</th>\n",
       "    </tr>\n",
       "  </thead>\n",
       "  <tbody>\n",
       "    <tr>\n",
       "      <th>0</th>\n",
       "      <td>2014</td>\n",
       "      <td>13339</td>\n",
       "      <td>Montgomery</td>\n",
       "      <td>Non-Dual</td>\n",
       "      <td>Mental Diseases And Disorders</td>\n",
       "      <td>Depressive and Other Psychoses</td>\n",
       "      <td>62</td>\n",
       "      <td>14</td>\n",
       "      <td>27</td>\n",
       "      <td>35</td>\n",
       "      <td>104</td>\n",
       "    </tr>\n",
       "    <tr>\n",
       "      <th>1</th>\n",
       "      <td>2012</td>\n",
       "      <td>12570</td>\n",
       "      <td>Dutchess</td>\n",
       "      <td>Non-Dual</td>\n",
       "      <td>Mental Diseases And Disorders</td>\n",
       "      <td>Chronic Stress and Anxiety Diagnoses</td>\n",
       "      <td>24</td>\n",
       "      <td>5</td>\n",
       "      <td>15</td>\n",
       "      <td>12</td>\n",
       "      <td>29</td>\n",
       "    </tr>\n",
       "    <tr>\n",
       "      <th>2</th>\n",
       "      <td>2013</td>\n",
       "      <td>14612</td>\n",
       "      <td>Monroe</td>\n",
       "      <td>Non-Dual</td>\n",
       "      <td>Diabetes Mellitus</td>\n",
       "      <td>Diabetes</td>\n",
       "      <td>175</td>\n",
       "      <td>48</td>\n",
       "      <td>88</td>\n",
       "      <td>70</td>\n",
       "      <td>221</td>\n",
       "    </tr>\n",
       "    <tr>\n",
       "      <th>3</th>\n",
       "      <td>2014</td>\n",
       "      <td>10032</td>\n",
       "      <td>New York</td>\n",
       "      <td>Non-Dual</td>\n",
       "      <td>Mental Diseases And Disorders</td>\n",
       "      <td>Chronic Stress and Anxiety Diagnoses</td>\n",
       "      <td>831</td>\n",
       "      <td>145</td>\n",
       "      <td>376</td>\n",
       "      <td>380</td>\n",
       "      <td>992</td>\n",
       "    </tr>\n",
       "    <tr>\n",
       "      <th>4</th>\n",
       "      <td>2014</td>\n",
       "      <td>10314</td>\n",
       "      <td>Richmond</td>\n",
       "      <td>Non-Dual</td>\n",
       "      <td>Mental Diseases And Disorders</td>\n",
       "      <td>Bi-Polar Disorder</td>\n",
       "      <td>216</td>\n",
       "      <td>90</td>\n",
       "      <td>255</td>\n",
       "      <td>107</td>\n",
       "      <td>384</td>\n",
       "    </tr>\n",
       "  </tbody>\n",
       "</table>\n",
       "</div>"
      ],
      "text/plain": [
       "   Year  Zip Code Primary County Dual Eligible      Major Diagnostic Category  \\\n",
       "0  2014     13339     Montgomery      Non-Dual  Mental Diseases And Disorders   \n",
       "1  2012     12570       Dutchess      Non-Dual  Mental Diseases And Disorders   \n",
       "2  2013     14612         Monroe      Non-Dual              Diabetes Mellitus   \n",
       "3  2014     10032       New York      Non-Dual  Mental Diseases And Disorders   \n",
       "4  2014     10314       Richmond      Non-Dual  Mental Diseases And Disorders   \n",
       "\n",
       "               Episode Disease Category  Beneficiaries with Condition  \\\n",
       "0        Depressive and Other Psychoses                            62   \n",
       "1  Chronic Stress and Anxiety Diagnoses                            24   \n",
       "2                              Diabetes                           175   \n",
       "3  Chronic Stress and Anxiety Diagnoses                           831   \n",
       "4                     Bi-Polar Disorder                           216   \n",
       "\n",
       "   Beneficiaries with Admissions  Total Inpatient Admissions  \\\n",
       "0                             14                          27   \n",
       "1                              5                          15   \n",
       "2                             48                          88   \n",
       "3                            145                         376   \n",
       "4                             90                         255   \n",
       "\n",
       "   Beneficiaries with ER Visits  Total ER Visits  \n",
       "0                            35              104  \n",
       "1                            12               29  \n",
       "2                            70              221  \n",
       "3                           380              992  \n",
       "4                           107              384  "
      ]
     },
     "execution_count": 4,
     "metadata": {},
     "output_type": "execute_result"
    }
   ],
   "source": [
    "data.head()"
   ]
  },
  {
   "cell_type": "markdown",
   "id": "25a729ad",
   "metadata": {},
   "source": [
    "## Show each of the column names and their data types.\n"
   ]
  },
  {
   "cell_type": "code",
   "execution_count": 5,
   "id": "8b32dcca",
   "metadata": {},
   "outputs": [
    {
     "name": "stdout",
     "output_type": "stream",
     "text": [
      "<class 'pandas.core.frame.DataFrame'>\n",
      "RangeIndex: 98691 entries, 0 to 98690\n",
      "Data columns (total 11 columns):\n",
      " #   Column                         Non-Null Count  Dtype \n",
      "---  ------                         --------------  ----- \n",
      " 0   Year                           98691 non-null  int64 \n",
      " 1   Zip Code                       98691 non-null  int64 \n",
      " 2   Primary County                 98691 non-null  object\n",
      " 3   Dual Eligible                  98691 non-null  object\n",
      " 4   Major Diagnostic Category      98691 non-null  object\n",
      " 5   Episode Disease Category       98691 non-null  object\n",
      " 6   Beneficiaries with Condition   98691 non-null  int64 \n",
      " 7   Beneficiaries with Admissions  98691 non-null  int64 \n",
      " 8   Total Inpatient Admissions     98691 non-null  int64 \n",
      " 9   Beneficiaries with ER Visits   98691 non-null  int64 \n",
      " 10  Total ER Visits                98691 non-null  int64 \n",
      "dtypes: int64(7), object(4)\n",
      "memory usage: 8.3+ MB\n"
     ]
    }
   ],
   "source": [
    "data.info()"
   ]
  },
  {
   "cell_type": "code",
   "execution_count": 6,
   "id": "c711b356",
   "metadata": {
    "scrolled": true
   },
   "outputs": [
    {
     "data": {
      "text/plain": [
       "Year                             0\n",
       "Zip Code                         0\n",
       "Primary County                   0\n",
       "Dual Eligible                    0\n",
       "Major Diagnostic Category        0\n",
       "Episode Disease Category         0\n",
       "Beneficiaries with Condition     0\n",
       "Beneficiaries with Admissions    0\n",
       "Total Inpatient Admissions       0\n",
       "Beneficiaries with ER Visits     0\n",
       "Total ER Visits                  0\n",
       "dtype: int64"
      ]
     },
     "execution_count": 6,
     "metadata": {},
     "output_type": "execute_result"
    }
   ],
   "source": [
    "data.isnull().sum()"
   ]
  },
  {
   "cell_type": "code",
   "execution_count": 7,
   "id": "ca2917f1",
   "metadata": {
    "scrolled": true
   },
   "outputs": [
    {
     "data": {
      "text/html": [
       "<div>\n",
       "<style scoped>\n",
       "    .dataframe tbody tr th:only-of-type {\n",
       "        vertical-align: middle;\n",
       "    }\n",
       "\n",
       "    .dataframe tbody tr th {\n",
       "        vertical-align: top;\n",
       "    }\n",
       "\n",
       "    .dataframe thead th {\n",
       "        text-align: right;\n",
       "    }\n",
       "</style>\n",
       "<table border=\"1\" class=\"dataframe\">\n",
       "  <thead>\n",
       "    <tr style=\"text-align: right;\">\n",
       "      <th></th>\n",
       "      <th>Year</th>\n",
       "      <th>Zip Code</th>\n",
       "      <th>Beneficiaries with Condition</th>\n",
       "      <th>Beneficiaries with Admissions</th>\n",
       "      <th>Total Inpatient Admissions</th>\n",
       "      <th>Beneficiaries with ER Visits</th>\n",
       "      <th>Total ER Visits</th>\n",
       "    </tr>\n",
       "  </thead>\n",
       "  <tbody>\n",
       "    <tr>\n",
       "      <th>count</th>\n",
       "      <td>98691.000000</td>\n",
       "      <td>98691.000000</td>\n",
       "      <td>98691.000000</td>\n",
       "      <td>98691.000000</td>\n",
       "      <td>98691.000000</td>\n",
       "      <td>98691.000000</td>\n",
       "      <td>98691.000000</td>\n",
       "    </tr>\n",
       "    <tr>\n",
       "      <th>mean</th>\n",
       "      <td>2013.022059</td>\n",
       "      <td>12049.998875</td>\n",
       "      <td>139.149335</td>\n",
       "      <td>50.544133</td>\n",
       "      <td>111.502721</td>\n",
       "      <td>56.415023</td>\n",
       "      <td>172.252647</td>\n",
       "    </tr>\n",
       "    <tr>\n",
       "      <th>std</th>\n",
       "      <td>0.818812</td>\n",
       "      <td>1447.136714</td>\n",
       "      <td>325.405847</td>\n",
       "      <td>85.780863</td>\n",
       "      <td>198.973519</td>\n",
       "      <td>124.564132</td>\n",
       "      <td>361.195672</td>\n",
       "    </tr>\n",
       "    <tr>\n",
       "      <th>min</th>\n",
       "      <td>2012.000000</td>\n",
       "      <td>10001.000000</td>\n",
       "      <td>21.000000</td>\n",
       "      <td>0.000000</td>\n",
       "      <td>0.000000</td>\n",
       "      <td>0.000000</td>\n",
       "      <td>0.000000</td>\n",
       "    </tr>\n",
       "    <tr>\n",
       "      <th>25%</th>\n",
       "      <td>2012.000000</td>\n",
       "      <td>11050.000000</td>\n",
       "      <td>32.000000</td>\n",
       "      <td>14.000000</td>\n",
       "      <td>25.000000</td>\n",
       "      <td>13.000000</td>\n",
       "      <td>33.000000</td>\n",
       "    </tr>\n",
       "    <tr>\n",
       "      <th>50%</th>\n",
       "      <td>2013.000000</td>\n",
       "      <td>11691.000000</td>\n",
       "      <td>55.000000</td>\n",
       "      <td>25.000000</td>\n",
       "      <td>51.000000</td>\n",
       "      <td>23.000000</td>\n",
       "      <td>69.000000</td>\n",
       "    </tr>\n",
       "    <tr>\n",
       "      <th>75%</th>\n",
       "      <td>2014.000000</td>\n",
       "      <td>13205.000000</td>\n",
       "      <td>120.000000</td>\n",
       "      <td>51.000000</td>\n",
       "      <td>113.000000</td>\n",
       "      <td>51.000000</td>\n",
       "      <td>162.000000</td>\n",
       "    </tr>\n",
       "    <tr>\n",
       "      <th>max</th>\n",
       "      <td>2014.000000</td>\n",
       "      <td>14905.000000</td>\n",
       "      <td>7796.000000</td>\n",
       "      <td>1788.000000</td>\n",
       "      <td>4099.000000</td>\n",
       "      <td>3482.000000</td>\n",
       "      <td>8977.000000</td>\n",
       "    </tr>\n",
       "  </tbody>\n",
       "</table>\n",
       "</div>"
      ],
      "text/plain": [
       "               Year      Zip Code  Beneficiaries with Condition  \\\n",
       "count  98691.000000  98691.000000                  98691.000000   \n",
       "mean    2013.022059  12049.998875                    139.149335   \n",
       "std        0.818812   1447.136714                    325.405847   \n",
       "min     2012.000000  10001.000000                     21.000000   \n",
       "25%     2012.000000  11050.000000                     32.000000   \n",
       "50%     2013.000000  11691.000000                     55.000000   \n",
       "75%     2014.000000  13205.000000                    120.000000   \n",
       "max     2014.000000  14905.000000                   7796.000000   \n",
       "\n",
       "       Beneficiaries with Admissions  Total Inpatient Admissions  \\\n",
       "count                   98691.000000                98691.000000   \n",
       "mean                       50.544133                  111.502721   \n",
       "std                        85.780863                  198.973519   \n",
       "min                         0.000000                    0.000000   \n",
       "25%                        14.000000                   25.000000   \n",
       "50%                        25.000000                   51.000000   \n",
       "75%                        51.000000                  113.000000   \n",
       "max                      1788.000000                 4099.000000   \n",
       "\n",
       "       Beneficiaries with ER Visits  Total ER Visits  \n",
       "count                  98691.000000     98691.000000  \n",
       "mean                      56.415023       172.252647  \n",
       "std                      124.564132       361.195672  \n",
       "min                        0.000000         0.000000  \n",
       "25%                       13.000000        33.000000  \n",
       "50%                       23.000000        69.000000  \n",
       "75%                       51.000000       162.000000  \n",
       "max                     3482.000000      8977.000000  "
      ]
     },
     "execution_count": 7,
     "metadata": {},
     "output_type": "execute_result"
    }
   ],
   "source": [
    "data.describe()"
   ]
  },
  {
   "cell_type": "markdown",
   "id": "f16c15f1",
   "metadata": {},
   "source": [
    "##  feature contain number of unique values"
   ]
  },
  {
   "cell_type": "code",
   "execution_count": 8,
   "id": "115f71ac",
   "metadata": {
    "scrolled": true
   },
   "outputs": [
    {
     "name": "stdout",
     "output_type": "stream",
     "text": [
      "Year feature contain unique values 3\n",
      "\n",
      "Zip Code feature contain unique values 1328\n",
      "\n",
      "Primary County feature contain unique values 61\n",
      "\n",
      "Dual Eligible feature contain unique values 2\n",
      "\n",
      "Major Diagnostic Category feature contain unique values 7\n",
      "\n",
      "Episode Disease Category feature contain unique values 70\n",
      "\n",
      "Beneficiaries with Condition feature contain unique values 2128\n",
      "\n",
      "Beneficiaries with Admissions feature contain unique values 889\n",
      "\n",
      "Total Inpatient Admissions feature contain unique values 1632\n",
      "\n",
      "Beneficiaries with ER Visits feature contain unique values 1133\n",
      "\n",
      "Total ER Visits feature contain unique values 2366\n",
      "\n"
     ]
    }
   ],
   "source": [
    "for feature in data.columns:\n",
    "    print(\"{} feature contain unique values {}\\n\".format(feature,len(data[feature].unique())))"
   ]
  },
  {
   "cell_type": "markdown",
   "id": "6293bd24",
   "metadata": {},
   "source": [
    "## We need to convert Dual Eligible to Numerice as we can see there is only two class"
   ]
  },
  {
   "cell_type": "code",
   "execution_count": 9,
   "id": "fb76e454",
   "metadata": {},
   "outputs": [
    {
     "data": {
      "text/plain": [
       "Non-Dual    60367\n",
       "Dual        38324\n",
       "Name: Dual Eligible, dtype: int64"
      ]
     },
     "execution_count": 9,
     "metadata": {},
     "output_type": "execute_result"
    }
   ],
   "source": [
    "data['Dual Eligible'].value_counts()"
   ]
  },
  {
   "cell_type": "code",
   "execution_count": 10,
   "id": "f577eaa1",
   "metadata": {},
   "outputs": [],
   "source": [
    "data_dual_e = pd.get_dummies(data['Dual Eligible'])"
   ]
  },
  {
   "cell_type": "code",
   "execution_count": 11,
   "id": "ed33955d",
   "metadata": {},
   "outputs": [],
   "source": [
    "data1 = pd.concat([data,data_dual_e],axis = 1)"
   ]
  },
  {
   "cell_type": "code",
   "execution_count": 12,
   "id": "36e588e9",
   "metadata": {},
   "outputs": [],
   "source": [
    "data1.drop(['Dual Eligible'],axis = 1,inplace =True)"
   ]
  },
  {
   "cell_type": "code",
   "execution_count": 13,
   "id": "b796d1dd",
   "metadata": {
    "scrolled": false
   },
   "outputs": [
    {
     "data": {
      "text/plain": [
       "array([2014, 2012, 2013])"
      ]
     },
     "execution_count": 13,
     "metadata": {},
     "output_type": "execute_result"
    }
   ],
   "source": [
    "data1[\"Year\"].unique()"
   ]
  },
  {
   "cell_type": "markdown",
   "id": "72f48115",
   "metadata": {},
   "source": [
    "## now we will go thorough in Primary County features "
   ]
  },
  {
   "cell_type": "code",
   "execution_count": 14,
   "id": "a4838da9",
   "metadata": {},
   "outputs": [
    {
     "data": {
      "text/plain": [
       "array(['Montgomery', 'Dutchess', 'Monroe', 'New York', 'Richmond',\n",
       "       'Suffolk', 'Bronx', 'Queens', 'Rockland', 'Erie', 'Orange',\n",
       "       'Kings', 'Fulton', 'Genesee', 'Warren', 'Seneca', 'Nassau',\n",
       "       'Sullivan', 'Onondaga', 'Oneida', 'Otsego', 'Broome', 'Essex',\n",
       "       'Ontario', 'Saratoga', 'Westchester', 'Herkimer', 'St Lawrence',\n",
       "       'Wayne', 'Niagara', 'Orleans', 'Chemung', 'Steuben', 'Allegany',\n",
       "       'Franklin', 'Chenango', 'Clinton', 'Oswego', 'Albany', 'Delaware',\n",
       "       'Cayuga', 'Tompkins', 'Chautauqua', 'Yates', 'Schoharie',\n",
       "       'Madison', 'Ulster', 'Schuyler', 'Livingston', 'Jefferson',\n",
       "       'Putnam', 'Cattaraugus', 'Greene', 'Columbia', 'Rensselaer',\n",
       "       'Schenectady', 'Tioga', 'Washington', 'Wyoming', 'Cortland',\n",
       "       'Lewis'], dtype=object)"
      ]
     },
     "execution_count": 14,
     "metadata": {},
     "output_type": "execute_result"
    }
   ],
   "source": [
    "data[\"Primary County\"].unique()"
   ]
  },
  {
   "cell_type": "code",
   "execution_count": 15,
   "id": "a7d28922",
   "metadata": {
    "scrolled": false
   },
   "outputs": [
    {
     "data": {
      "text/plain": [
       "Queens       11474\n",
       "Kings        10740\n",
       "New York      8041\n",
       "Bronx         6966\n",
       "Suffolk       6735\n",
       "             ...  \n",
       "Seneca         219\n",
       "Schoharie      187\n",
       "Yates          142\n",
       "Lewis          132\n",
       "Schuyler       126\n",
       "Name: Primary County, Length: 61, dtype: int64"
      ]
     },
     "execution_count": 15,
     "metadata": {},
     "output_type": "execute_result"
    }
   ],
   "source": [
    "data_pri = data[\"Primary County\"].value_counts()\n",
    "data_pri"
   ]
  },
  {
   "cell_type": "markdown",
   "id": "16e2da55",
   "metadata": {},
   "source": [
    "### we can neglect county which has less than 200 entries. as we can see our data set contain 98 thousand entries"
   ]
  },
  {
   "cell_type": "code",
   "execution_count": 16,
   "id": "bbf49c04",
   "metadata": {},
   "outputs": [
    {
     "name": "stdout",
     "output_type": "stream",
     "text": [
      "county that has more than 200 entries\n"
     ]
    },
    {
     "data": {
      "text/plain": [
       "Queens         11474\n",
       "Kings          10740\n",
       "New York        8041\n",
       "Bronx           6966\n",
       "Suffolk         6735\n",
       "Erie            5520\n",
       "Nassau          5154\n",
       "Monroe          4170\n",
       "Westchester     3972\n",
       "Onondaga        2770\n",
       "Richmond        2336\n",
       "Albany          1885\n",
       "Orange          1611\n",
       "Dutchess        1462\n",
       "Oneida          1398\n",
       "Niagara         1358\n",
       "Rockland        1356\n",
       "Broome          1213\n",
       "Schenectady     1169\n",
       "Ulster          1153\n",
       "Saratoga        1047\n",
       "Chautauqua       885\n",
       "St Lawrence      881\n",
       "Rensselaer       849\n",
       "Oswego           841\n",
       "Chemung          681\n",
       "Sullivan         642\n",
       "Cattaraugus      637\n",
       "Steuben          635\n",
       "Wayne            605\n",
       "Clinton          587\n",
       "Jefferson        552\n",
       "Ontario          542\n",
       "Fulton           505\n",
       "Herkimer         472\n",
       "Warren           459\n",
       "Franklin         453\n",
       "Tompkins         401\n",
       "Washington       398\n",
       "Madison          387\n",
       "Montgomery       378\n",
       "Columbia         366\n",
       "Cayuga           362\n",
       "Livingston       361\n",
       "Allegany         334\n",
       "Chenango         325\n",
       "Tioga            314\n",
       "Otsego           311\n",
       "Orleans          302\n",
       "Cortland         293\n",
       "Putnam           292\n",
       "Greene           288\n",
       "Genesee          282\n",
       "Delaware         260\n",
       "Essex            245\n",
       "Wyoming          230\n",
       "Seneca           219\n",
       "Name: Primary County, dtype: int64"
      ]
     },
     "execution_count": 16,
     "metadata": {},
     "output_type": "execute_result"
    }
   ],
   "source": [
    "print(\"county that has more than 200 entries\")\n",
    "data_pri[data_pri.values > 200]"
   ]
  },
  {
   "cell_type": "code",
   "execution_count": 17,
   "id": "4fbfa2d8",
   "metadata": {
    "scrolled": true
   },
   "outputs": [],
   "source": [
    "data = data[data[\"Primary County\"].isin(data_pri[data_pri.values > 200].index)]"
   ]
  },
  {
   "cell_type": "code",
   "execution_count": 18,
   "id": "465c3a56",
   "metadata": {},
   "outputs": [
    {
     "data": {
      "text/plain": [
       "(98104, 11)"
      ]
     },
     "execution_count": 18,
     "metadata": {},
     "output_type": "execute_result"
    }
   ],
   "source": [
    "data.shape"
   ]
  },
  {
   "cell_type": "code",
   "execution_count": 19,
   "id": "aea6f4a8",
   "metadata": {
    "scrolled": true
   },
   "outputs": [
    {
     "data": {
      "text/html": [
       "<div>\n",
       "<style scoped>\n",
       "    .dataframe tbody tr th:only-of-type {\n",
       "        vertical-align: middle;\n",
       "    }\n",
       "\n",
       "    .dataframe tbody tr th {\n",
       "        vertical-align: top;\n",
       "    }\n",
       "\n",
       "    .dataframe thead th {\n",
       "        text-align: right;\n",
       "    }\n",
       "</style>\n",
       "<table border=\"1\" class=\"dataframe\">\n",
       "  <thead>\n",
       "    <tr style=\"text-align: right;\">\n",
       "      <th></th>\n",
       "      <th>Year</th>\n",
       "      <th>Zip Code</th>\n",
       "      <th>Primary County</th>\n",
       "      <th>Dual Eligible</th>\n",
       "      <th>Major Diagnostic Category</th>\n",
       "      <th>Episode Disease Category</th>\n",
       "      <th>Beneficiaries with Condition</th>\n",
       "      <th>Beneficiaries with Admissions</th>\n",
       "      <th>Total Inpatient Admissions</th>\n",
       "      <th>Beneficiaries with ER Visits</th>\n",
       "      <th>Total ER Visits</th>\n",
       "    </tr>\n",
       "  </thead>\n",
       "  <tbody>\n",
       "    <tr>\n",
       "      <th>0</th>\n",
       "      <td>2014</td>\n",
       "      <td>13339</td>\n",
       "      <td>Montgomery</td>\n",
       "      <td>Non-Dual</td>\n",
       "      <td>Mental Diseases And Disorders</td>\n",
       "      <td>Depressive and Other Psychoses</td>\n",
       "      <td>62</td>\n",
       "      <td>14</td>\n",
       "      <td>27</td>\n",
       "      <td>35</td>\n",
       "      <td>104</td>\n",
       "    </tr>\n",
       "    <tr>\n",
       "      <th>1</th>\n",
       "      <td>2012</td>\n",
       "      <td>12570</td>\n",
       "      <td>Dutchess</td>\n",
       "      <td>Non-Dual</td>\n",
       "      <td>Mental Diseases And Disorders</td>\n",
       "      <td>Chronic Stress and Anxiety Diagnoses</td>\n",
       "      <td>24</td>\n",
       "      <td>5</td>\n",
       "      <td>15</td>\n",
       "      <td>12</td>\n",
       "      <td>29</td>\n",
       "    </tr>\n",
       "    <tr>\n",
       "      <th>2</th>\n",
       "      <td>2013</td>\n",
       "      <td>14612</td>\n",
       "      <td>Monroe</td>\n",
       "      <td>Non-Dual</td>\n",
       "      <td>Diabetes Mellitus</td>\n",
       "      <td>Diabetes</td>\n",
       "      <td>175</td>\n",
       "      <td>48</td>\n",
       "      <td>88</td>\n",
       "      <td>70</td>\n",
       "      <td>221</td>\n",
       "    </tr>\n",
       "    <tr>\n",
       "      <th>3</th>\n",
       "      <td>2014</td>\n",
       "      <td>10032</td>\n",
       "      <td>New York</td>\n",
       "      <td>Non-Dual</td>\n",
       "      <td>Mental Diseases And Disorders</td>\n",
       "      <td>Chronic Stress and Anxiety Diagnoses</td>\n",
       "      <td>831</td>\n",
       "      <td>145</td>\n",
       "      <td>376</td>\n",
       "      <td>380</td>\n",
       "      <td>992</td>\n",
       "    </tr>\n",
       "    <tr>\n",
       "      <th>4</th>\n",
       "      <td>2014</td>\n",
       "      <td>10314</td>\n",
       "      <td>Richmond</td>\n",
       "      <td>Non-Dual</td>\n",
       "      <td>Mental Diseases And Disorders</td>\n",
       "      <td>Bi-Polar Disorder</td>\n",
       "      <td>216</td>\n",
       "      <td>90</td>\n",
       "      <td>255</td>\n",
       "      <td>107</td>\n",
       "      <td>384</td>\n",
       "    </tr>\n",
       "  </tbody>\n",
       "</table>\n",
       "</div>"
      ],
      "text/plain": [
       "   Year  Zip Code Primary County Dual Eligible      Major Diagnostic Category  \\\n",
       "0  2014     13339     Montgomery      Non-Dual  Mental Diseases And Disorders   \n",
       "1  2012     12570       Dutchess      Non-Dual  Mental Diseases And Disorders   \n",
       "2  2013     14612         Monroe      Non-Dual              Diabetes Mellitus   \n",
       "3  2014     10032       New York      Non-Dual  Mental Diseases And Disorders   \n",
       "4  2014     10314       Richmond      Non-Dual  Mental Diseases And Disorders   \n",
       "\n",
       "               Episode Disease Category  Beneficiaries with Condition  \\\n",
       "0        Depressive and Other Psychoses                            62   \n",
       "1  Chronic Stress and Anxiety Diagnoses                            24   \n",
       "2                              Diabetes                           175   \n",
       "3  Chronic Stress and Anxiety Diagnoses                           831   \n",
       "4                     Bi-Polar Disorder                           216   \n",
       "\n",
       "   Beneficiaries with Admissions  Total Inpatient Admissions  \\\n",
       "0                             14                          27   \n",
       "1                              5                          15   \n",
       "2                             48                          88   \n",
       "3                            145                         376   \n",
       "4                             90                         255   \n",
       "\n",
       "   Beneficiaries with ER Visits  Total ER Visits  \n",
       "0                            35              104  \n",
       "1                            12               29  \n",
       "2                            70              221  \n",
       "3                           380              992  \n",
       "4                           107              384  "
      ]
     },
     "execution_count": 19,
     "metadata": {},
     "output_type": "execute_result"
    }
   ],
   "source": [
    "data.head()"
   ]
  },
  {
   "cell_type": "markdown",
   "id": "eea488a8",
   "metadata": {},
   "source": [
    "## Now we will go through Total ER Visits"
   ]
  },
  {
   "cell_type": "code",
   "execution_count": 20,
   "id": "6213a681",
   "metadata": {
    "scrolled": false
   },
   "outputs": [
    {
     "data": {
      "text/plain": [
       "20      1005\n",
       "22       992\n",
       "28       989\n",
       "24       987\n",
       "31       978\n",
       "        ... \n",
       "2017       1\n",
       "2070       1\n",
       "2277       1\n",
       "3062       1\n",
       "2052       1\n",
       "Name: Total ER Visits, Length: 2366, dtype: int64"
      ]
     },
     "execution_count": 20,
     "metadata": {},
     "output_type": "execute_result"
    }
   ],
   "source": [
    "data_er = data[\"Total ER Visits\"].value_counts()\n",
    "data_er"
   ]
  },
  {
   "cell_type": "code",
   "execution_count": 21,
   "id": "d5b877f3",
   "metadata": {
    "scrolled": true
   },
   "outputs": [
    {
     "data": {
      "text/plain": [
       "20      1005\n",
       "22       992\n",
       "28       989\n",
       "24       987\n",
       "31       978\n",
       "        ... \n",
       "1253       3\n",
       "820        3\n",
       "1429       3\n",
       "1144       3\n",
       "1265       3\n",
       "Name: Total ER Visits, Length: 1251, dtype: int64"
      ]
     },
     "execution_count": 21,
     "metadata": {},
     "output_type": "execute_result"
    }
   ],
   "source": [
    "data_er[data_er.values >2]"
   ]
  },
  {
   "cell_type": "markdown",
   "id": "295f883a",
   "metadata": {},
   "source": [
    "## we can neglect Total ER Visits which has less than 2 entries"
   ]
  },
  {
   "cell_type": "code",
   "execution_count": 22,
   "id": "abcb716f",
   "metadata": {},
   "outputs": [],
   "source": [
    "data = data[data[\"Total ER Visits\"].isin(data_er[data_er.values > 2].index)]"
   ]
  },
  {
   "cell_type": "code",
   "execution_count": 23,
   "id": "62a793dc",
   "metadata": {},
   "outputs": [
    {
     "data": {
      "text/plain": [
       "(96683, 11)"
      ]
     },
     "execution_count": 23,
     "metadata": {},
     "output_type": "execute_result"
    }
   ],
   "source": [
    "data.shape"
   ]
  },
  {
   "cell_type": "code",
   "execution_count": 24,
   "id": "a1f486ad",
   "metadata": {
    "scrolled": true
   },
   "outputs": [
    {
     "data": {
      "text/html": [
       "<div>\n",
       "<style scoped>\n",
       "    .dataframe tbody tr th:only-of-type {\n",
       "        vertical-align: middle;\n",
       "    }\n",
       "\n",
       "    .dataframe tbody tr th {\n",
       "        vertical-align: top;\n",
       "    }\n",
       "\n",
       "    .dataframe thead th {\n",
       "        text-align: right;\n",
       "    }\n",
       "</style>\n",
       "<table border=\"1\" class=\"dataframe\">\n",
       "  <thead>\n",
       "    <tr style=\"text-align: right;\">\n",
       "      <th></th>\n",
       "      <th>Year</th>\n",
       "      <th>Zip Code</th>\n",
       "      <th>Primary County</th>\n",
       "      <th>Dual Eligible</th>\n",
       "      <th>Major Diagnostic Category</th>\n",
       "      <th>Episode Disease Category</th>\n",
       "      <th>Beneficiaries with Condition</th>\n",
       "      <th>Beneficiaries with Admissions</th>\n",
       "      <th>Total Inpatient Admissions</th>\n",
       "      <th>Beneficiaries with ER Visits</th>\n",
       "      <th>Total ER Visits</th>\n",
       "    </tr>\n",
       "  </thead>\n",
       "  <tbody>\n",
       "    <tr>\n",
       "      <th>0</th>\n",
       "      <td>2014</td>\n",
       "      <td>13339</td>\n",
       "      <td>Montgomery</td>\n",
       "      <td>Non-Dual</td>\n",
       "      <td>Mental Diseases And Disorders</td>\n",
       "      <td>Depressive and Other Psychoses</td>\n",
       "      <td>62</td>\n",
       "      <td>14</td>\n",
       "      <td>27</td>\n",
       "      <td>35</td>\n",
       "      <td>104</td>\n",
       "    </tr>\n",
       "    <tr>\n",
       "      <th>1</th>\n",
       "      <td>2012</td>\n",
       "      <td>12570</td>\n",
       "      <td>Dutchess</td>\n",
       "      <td>Non-Dual</td>\n",
       "      <td>Mental Diseases And Disorders</td>\n",
       "      <td>Chronic Stress and Anxiety Diagnoses</td>\n",
       "      <td>24</td>\n",
       "      <td>5</td>\n",
       "      <td>15</td>\n",
       "      <td>12</td>\n",
       "      <td>29</td>\n",
       "    </tr>\n",
       "    <tr>\n",
       "      <th>2</th>\n",
       "      <td>2013</td>\n",
       "      <td>14612</td>\n",
       "      <td>Monroe</td>\n",
       "      <td>Non-Dual</td>\n",
       "      <td>Diabetes Mellitus</td>\n",
       "      <td>Diabetes</td>\n",
       "      <td>175</td>\n",
       "      <td>48</td>\n",
       "      <td>88</td>\n",
       "      <td>70</td>\n",
       "      <td>221</td>\n",
       "    </tr>\n",
       "    <tr>\n",
       "      <th>3</th>\n",
       "      <td>2014</td>\n",
       "      <td>10032</td>\n",
       "      <td>New York</td>\n",
       "      <td>Non-Dual</td>\n",
       "      <td>Mental Diseases And Disorders</td>\n",
       "      <td>Chronic Stress and Anxiety Diagnoses</td>\n",
       "      <td>831</td>\n",
       "      <td>145</td>\n",
       "      <td>376</td>\n",
       "      <td>380</td>\n",
       "      <td>992</td>\n",
       "    </tr>\n",
       "    <tr>\n",
       "      <th>4</th>\n",
       "      <td>2014</td>\n",
       "      <td>10314</td>\n",
       "      <td>Richmond</td>\n",
       "      <td>Non-Dual</td>\n",
       "      <td>Mental Diseases And Disorders</td>\n",
       "      <td>Bi-Polar Disorder</td>\n",
       "      <td>216</td>\n",
       "      <td>90</td>\n",
       "      <td>255</td>\n",
       "      <td>107</td>\n",
       "      <td>384</td>\n",
       "    </tr>\n",
       "  </tbody>\n",
       "</table>\n",
       "</div>"
      ],
      "text/plain": [
       "   Year  Zip Code Primary County Dual Eligible      Major Diagnostic Category  \\\n",
       "0  2014     13339     Montgomery      Non-Dual  Mental Diseases And Disorders   \n",
       "1  2012     12570       Dutchess      Non-Dual  Mental Diseases And Disorders   \n",
       "2  2013     14612         Monroe      Non-Dual              Diabetes Mellitus   \n",
       "3  2014     10032       New York      Non-Dual  Mental Diseases And Disorders   \n",
       "4  2014     10314       Richmond      Non-Dual  Mental Diseases And Disorders   \n",
       "\n",
       "               Episode Disease Category  Beneficiaries with Condition  \\\n",
       "0        Depressive and Other Psychoses                            62   \n",
       "1  Chronic Stress and Anxiety Diagnoses                            24   \n",
       "2                              Diabetes                           175   \n",
       "3  Chronic Stress and Anxiety Diagnoses                           831   \n",
       "4                     Bi-Polar Disorder                           216   \n",
       "\n",
       "   Beneficiaries with Admissions  Total Inpatient Admissions  \\\n",
       "0                             14                          27   \n",
       "1                              5                          15   \n",
       "2                             48                          88   \n",
       "3                            145                         376   \n",
       "4                             90                         255   \n",
       "\n",
       "   Beneficiaries with ER Visits  Total ER Visits  \n",
       "0                            35              104  \n",
       "1                            12               29  \n",
       "2                            70              221  \n",
       "3                           380              992  \n",
       "4                           107              384  "
      ]
     },
     "execution_count": 24,
     "metadata": {},
     "output_type": "execute_result"
    }
   ],
   "source": [
    "data.head()"
   ]
  },
  {
   "cell_type": "markdown",
   "id": "0a41586c",
   "metadata": {},
   "source": [
    "## Now we will check Beneficiaries with Condition feature"
   ]
  },
  {
   "cell_type": "code",
   "execution_count": 25,
   "id": "0136d37d",
   "metadata": {
    "scrolled": true
   },
   "outputs": [
    {
     "data": {
      "text/plain": [
       "21      2875\n",
       "22      2581\n",
       "23      2469\n",
       "24      2418\n",
       "25      2257\n",
       "        ... \n",
       "1468       1\n",
       "1464       1\n",
       "1252       1\n",
       "1284       1\n",
       "3219       1\n",
       "Name: Beneficiaries with Condition, Length: 1620, dtype: int64"
      ]
     },
     "execution_count": 25,
     "metadata": {},
     "output_type": "execute_result"
    }
   ],
   "source": [
    "data_ben_conn = data[\"Beneficiaries with Condition\"].value_counts()\n",
    "data_ben_conn"
   ]
  },
  {
   "cell_type": "markdown",
   "id": "c544a1cf",
   "metadata": {},
   "source": [
    "## we are neglectcing Beneficiaries with Condition which has less than 3 entries   "
   ]
  },
  {
   "cell_type": "code",
   "execution_count": 26,
   "id": "4af6c5bc",
   "metadata": {},
   "outputs": [
    {
     "data": {
      "text/plain": [
       "(95398, 11)"
      ]
     },
     "execution_count": 26,
     "metadata": {},
     "output_type": "execute_result"
    }
   ],
   "source": [
    "data = data[data[\"Beneficiaries with Condition\"].isin(data_ben_conn[data_ben_conn.values > 3].index)]\n",
    "data.shape"
   ]
  },
  {
   "cell_type": "markdown",
   "id": "fe624d32",
   "metadata": {},
   "source": [
    "## Now we are neglectcing Beneficiaries with Admissions which has less than 2 entries   "
   ]
  },
  {
   "cell_type": "code",
   "execution_count": 27,
   "id": "11492127",
   "metadata": {},
   "outputs": [
    {
     "data": {
      "text/plain": [
       "11     2651\n",
       "13     2626\n",
       "16     2581\n",
       "14     2561\n",
       "12     2530\n",
       "       ... \n",
       "470       1\n",
       "500       1\n",
       "317       1\n",
       "513       1\n",
       "376       1\n",
       "Name: Beneficiaries with Admissions, Length: 467, dtype: int64"
      ]
     },
     "execution_count": 27,
     "metadata": {},
     "output_type": "execute_result"
    }
   ],
   "source": [
    "data_ben = data[\"Beneficiaries with Admissions\"].value_counts()\n",
    "data_ben"
   ]
  },
  {
   "cell_type": "code",
   "execution_count": 28,
   "id": "227544a9",
   "metadata": {},
   "outputs": [
    {
     "data": {
      "text/plain": [
       "11     2651\n",
       "13     2626\n",
       "16     2581\n",
       "14     2561\n",
       "12     2530\n",
       "       ... \n",
       "336       3\n",
       "358       3\n",
       "431       3\n",
       "361       3\n",
       "321       3\n",
       "Name: Beneficiaries with Admissions, Length: 364, dtype: int64"
      ]
     },
     "execution_count": 28,
     "metadata": {},
     "output_type": "execute_result"
    }
   ],
   "source": [
    "data_ben[data_ben.values >2]"
   ]
  },
  {
   "cell_type": "code",
   "execution_count": 29,
   "id": "fe4dba3d",
   "metadata": {},
   "outputs": [
    {
     "data": {
      "text/plain": [
       "(95190, 11)"
      ]
     },
     "execution_count": 29,
     "metadata": {},
     "output_type": "execute_result"
    }
   ],
   "source": [
    "data = data[data[\"Beneficiaries with Admissions\"].isin(data_ben[data_ben.values > 3].index)]\n",
    "data.shape"
   ]
  },
  {
   "cell_type": "markdown",
   "id": "a53d4148",
   "metadata": {},
   "source": [
    "## Now we are going to neglect Total Inpatient Admissions which has less than 3 entries"
   ]
  },
  {
   "cell_type": "code",
   "execution_count": 30,
   "id": "9069d76f",
   "metadata": {},
   "outputs": [
    {
     "data": {
      "text/plain": [
       "15      1287\n",
       "19      1254\n",
       "16      1249\n",
       "20      1248\n",
       "22      1245\n",
       "        ... \n",
       "868        1\n",
       "816        1\n",
       "936        1\n",
       "1410       1\n",
       "795        1\n",
       "Name: Total Inpatient Admissions, Length: 991, dtype: int64"
      ]
     },
     "execution_count": 30,
     "metadata": {},
     "output_type": "execute_result"
    }
   ],
   "source": [
    "data_inp_adm = data[\"Total Inpatient Admissions\"].value_counts()\n",
    "data_inp_adm"
   ]
  },
  {
   "cell_type": "code",
   "execution_count": 31,
   "id": "d78d63da",
   "metadata": {
    "scrolled": true
   },
   "outputs": [
    {
     "data": {
      "text/plain": [
       "15     1287\n",
       "19     1254\n",
       "16     1249\n",
       "20     1248\n",
       "22     1245\n",
       "       ... \n",
       "642       4\n",
       "646       4\n",
       "609       4\n",
       "597       4\n",
       "619       4\n",
       "Name: Total Inpatient Admissions, Length: 639, dtype: int64"
      ]
     },
     "execution_count": 31,
     "metadata": {},
     "output_type": "execute_result"
    }
   ],
   "source": [
    "data_inp_adm[data_inp_adm.values >3]"
   ]
  },
  {
   "cell_type": "code",
   "execution_count": 32,
   "id": "a4455ac6",
   "metadata": {},
   "outputs": [
    {
     "data": {
      "text/plain": [
       "(94605, 11)"
      ]
     },
     "execution_count": 32,
     "metadata": {},
     "output_type": "execute_result"
    }
   ],
   "source": [
    "data = data[data[\"Total Inpatient Admissions\"].isin(data_inp_adm[data_inp_adm.values > 3].index)]\n",
    "data.shape"
   ]
  },
  {
   "cell_type": "code",
   "execution_count": 33,
   "id": "f35d6d32",
   "metadata": {
    "scrolled": false
   },
   "outputs": [
    {
     "data": {
      "text/html": [
       "<div>\n",
       "<style scoped>\n",
       "    .dataframe tbody tr th:only-of-type {\n",
       "        vertical-align: middle;\n",
       "    }\n",
       "\n",
       "    .dataframe tbody tr th {\n",
       "        vertical-align: top;\n",
       "    }\n",
       "\n",
       "    .dataframe thead th {\n",
       "        text-align: right;\n",
       "    }\n",
       "</style>\n",
       "<table border=\"1\" class=\"dataframe\">\n",
       "  <thead>\n",
       "    <tr style=\"text-align: right;\">\n",
       "      <th></th>\n",
       "      <th>Year</th>\n",
       "      <th>Zip Code</th>\n",
       "      <th>Primary County</th>\n",
       "      <th>Dual Eligible</th>\n",
       "      <th>Major Diagnostic Category</th>\n",
       "      <th>Episode Disease Category</th>\n",
       "      <th>Beneficiaries with Condition</th>\n",
       "      <th>Beneficiaries with Admissions</th>\n",
       "      <th>Total Inpatient Admissions</th>\n",
       "      <th>Beneficiaries with ER Visits</th>\n",
       "      <th>Total ER Visits</th>\n",
       "    </tr>\n",
       "  </thead>\n",
       "  <tbody>\n",
       "    <tr>\n",
       "      <th>0</th>\n",
       "      <td>2014</td>\n",
       "      <td>13339</td>\n",
       "      <td>Montgomery</td>\n",
       "      <td>Non-Dual</td>\n",
       "      <td>Mental Diseases And Disorders</td>\n",
       "      <td>Depressive and Other Psychoses</td>\n",
       "      <td>62</td>\n",
       "      <td>14</td>\n",
       "      <td>27</td>\n",
       "      <td>35</td>\n",
       "      <td>104</td>\n",
       "    </tr>\n",
       "    <tr>\n",
       "      <th>1</th>\n",
       "      <td>2012</td>\n",
       "      <td>12570</td>\n",
       "      <td>Dutchess</td>\n",
       "      <td>Non-Dual</td>\n",
       "      <td>Mental Diseases And Disorders</td>\n",
       "      <td>Chronic Stress and Anxiety Diagnoses</td>\n",
       "      <td>24</td>\n",
       "      <td>5</td>\n",
       "      <td>15</td>\n",
       "      <td>12</td>\n",
       "      <td>29</td>\n",
       "    </tr>\n",
       "    <tr>\n",
       "      <th>2</th>\n",
       "      <td>2013</td>\n",
       "      <td>14612</td>\n",
       "      <td>Monroe</td>\n",
       "      <td>Non-Dual</td>\n",
       "      <td>Diabetes Mellitus</td>\n",
       "      <td>Diabetes</td>\n",
       "      <td>175</td>\n",
       "      <td>48</td>\n",
       "      <td>88</td>\n",
       "      <td>70</td>\n",
       "      <td>221</td>\n",
       "    </tr>\n",
       "    <tr>\n",
       "      <th>3</th>\n",
       "      <td>2014</td>\n",
       "      <td>10032</td>\n",
       "      <td>New York</td>\n",
       "      <td>Non-Dual</td>\n",
       "      <td>Mental Diseases And Disorders</td>\n",
       "      <td>Chronic Stress and Anxiety Diagnoses</td>\n",
       "      <td>831</td>\n",
       "      <td>145</td>\n",
       "      <td>376</td>\n",
       "      <td>380</td>\n",
       "      <td>992</td>\n",
       "    </tr>\n",
       "    <tr>\n",
       "      <th>4</th>\n",
       "      <td>2014</td>\n",
       "      <td>10314</td>\n",
       "      <td>Richmond</td>\n",
       "      <td>Non-Dual</td>\n",
       "      <td>Mental Diseases And Disorders</td>\n",
       "      <td>Bi-Polar Disorder</td>\n",
       "      <td>216</td>\n",
       "      <td>90</td>\n",
       "      <td>255</td>\n",
       "      <td>107</td>\n",
       "      <td>384</td>\n",
       "    </tr>\n",
       "  </tbody>\n",
       "</table>\n",
       "</div>"
      ],
      "text/plain": [
       "   Year  Zip Code Primary County Dual Eligible      Major Diagnostic Category  \\\n",
       "0  2014     13339     Montgomery      Non-Dual  Mental Diseases And Disorders   \n",
       "1  2012     12570       Dutchess      Non-Dual  Mental Diseases And Disorders   \n",
       "2  2013     14612         Monroe      Non-Dual              Diabetes Mellitus   \n",
       "3  2014     10032       New York      Non-Dual  Mental Diseases And Disorders   \n",
       "4  2014     10314       Richmond      Non-Dual  Mental Diseases And Disorders   \n",
       "\n",
       "               Episode Disease Category  Beneficiaries with Condition  \\\n",
       "0        Depressive and Other Psychoses                            62   \n",
       "1  Chronic Stress and Anxiety Diagnoses                            24   \n",
       "2                              Diabetes                           175   \n",
       "3  Chronic Stress and Anxiety Diagnoses                           831   \n",
       "4                     Bi-Polar Disorder                           216   \n",
       "\n",
       "   Beneficiaries with Admissions  Total Inpatient Admissions  \\\n",
       "0                             14                          27   \n",
       "1                              5                          15   \n",
       "2                             48                          88   \n",
       "3                            145                         376   \n",
       "4                             90                         255   \n",
       "\n",
       "   Beneficiaries with ER Visits  Total ER Visits  \n",
       "0                            35              104  \n",
       "1                            12               29  \n",
       "2                            70              221  \n",
       "3                           380              992  \n",
       "4                           107              384  "
      ]
     },
     "execution_count": 33,
     "metadata": {},
     "output_type": "execute_result"
    }
   ],
   "source": [
    "data.head()"
   ]
  },
  {
   "cell_type": "markdown",
   "id": "821678a9",
   "metadata": {},
   "source": [
    "# Now we will go for Beneficiaries with ER Visits feature"
   ]
  },
  {
   "cell_type": "code",
   "execution_count": 34,
   "id": "5a103553",
   "metadata": {
    "scrolled": true
   },
   "outputs": [
    {
     "data": {
      "text/plain": [
       "13     3312\n",
       "14     3307\n",
       "12     3294\n",
       "11     3208\n",
       "15     3009\n",
       "       ... \n",
       "494       1\n",
       "424       1\n",
       "496       1\n",
       "468       1\n",
       "488       1\n",
       "Name: Beneficiaries with ER Visits, Length: 456, dtype: int64"
      ]
     },
     "execution_count": 34,
     "metadata": {},
     "output_type": "execute_result"
    }
   ],
   "source": [
    "data_ben_er = data[\"Beneficiaries with ER Visits\"].value_counts()\n",
    "data_ben_er"
   ]
  },
  {
   "cell_type": "code",
   "execution_count": 35,
   "id": "ba79ab20",
   "metadata": {},
   "outputs": [
    {
     "data": {
      "text/plain": [
       "13     3312\n",
       "14     3307\n",
       "12     3294\n",
       "11     3208\n",
       "15     3009\n",
       "       ... \n",
       "402       3\n",
       "414       3\n",
       "289       3\n",
       "350       3\n",
       "379       3\n",
       "Name: Beneficiaries with ER Visits, Length: 375, dtype: int64"
      ]
     },
     "execution_count": 35,
     "metadata": {},
     "output_type": "execute_result"
    }
   ],
   "source": [
    "data_ben_er[data_ben_er.values>2]"
   ]
  },
  {
   "cell_type": "code",
   "execution_count": 36,
   "id": "c5dea56b",
   "metadata": {},
   "outputs": [
    {
     "data": {
      "text/plain": [
       "(94494, 11)"
      ]
     },
     "execution_count": 36,
     "metadata": {},
     "output_type": "execute_result"
    }
   ],
   "source": [
    "data = data[data[\"Beneficiaries with ER Visits\"].isin(data_ben_er[data_ben_er.values > 2].index)]\n",
    "data.shape"
   ]
  },
  {
   "cell_type": "code",
   "execution_count": 37,
   "id": "4729c1e0",
   "metadata": {
    "scrolled": true
   },
   "outputs": [
    {
     "data": {
      "text/html": [
       "<div>\n",
       "<style scoped>\n",
       "    .dataframe tbody tr th:only-of-type {\n",
       "        vertical-align: middle;\n",
       "    }\n",
       "\n",
       "    .dataframe tbody tr th {\n",
       "        vertical-align: top;\n",
       "    }\n",
       "\n",
       "    .dataframe thead th {\n",
       "        text-align: right;\n",
       "    }\n",
       "</style>\n",
       "<table border=\"1\" class=\"dataframe\">\n",
       "  <thead>\n",
       "    <tr style=\"text-align: right;\">\n",
       "      <th></th>\n",
       "      <th>Year</th>\n",
       "      <th>Zip Code</th>\n",
       "      <th>Primary County</th>\n",
       "      <th>Dual Eligible</th>\n",
       "      <th>Major Diagnostic Category</th>\n",
       "      <th>Episode Disease Category</th>\n",
       "      <th>Beneficiaries with Condition</th>\n",
       "      <th>Beneficiaries with Admissions</th>\n",
       "      <th>Total Inpatient Admissions</th>\n",
       "      <th>Beneficiaries with ER Visits</th>\n",
       "      <th>Total ER Visits</th>\n",
       "    </tr>\n",
       "  </thead>\n",
       "  <tbody>\n",
       "    <tr>\n",
       "      <th>0</th>\n",
       "      <td>2014</td>\n",
       "      <td>13339</td>\n",
       "      <td>Montgomery</td>\n",
       "      <td>Non-Dual</td>\n",
       "      <td>Mental Diseases And Disorders</td>\n",
       "      <td>Depressive and Other Psychoses</td>\n",
       "      <td>62</td>\n",
       "      <td>14</td>\n",
       "      <td>27</td>\n",
       "      <td>35</td>\n",
       "      <td>104</td>\n",
       "    </tr>\n",
       "    <tr>\n",
       "      <th>1</th>\n",
       "      <td>2012</td>\n",
       "      <td>12570</td>\n",
       "      <td>Dutchess</td>\n",
       "      <td>Non-Dual</td>\n",
       "      <td>Mental Diseases And Disorders</td>\n",
       "      <td>Chronic Stress and Anxiety Diagnoses</td>\n",
       "      <td>24</td>\n",
       "      <td>5</td>\n",
       "      <td>15</td>\n",
       "      <td>12</td>\n",
       "      <td>29</td>\n",
       "    </tr>\n",
       "    <tr>\n",
       "      <th>2</th>\n",
       "      <td>2013</td>\n",
       "      <td>14612</td>\n",
       "      <td>Monroe</td>\n",
       "      <td>Non-Dual</td>\n",
       "      <td>Diabetes Mellitus</td>\n",
       "      <td>Diabetes</td>\n",
       "      <td>175</td>\n",
       "      <td>48</td>\n",
       "      <td>88</td>\n",
       "      <td>70</td>\n",
       "      <td>221</td>\n",
       "    </tr>\n",
       "    <tr>\n",
       "      <th>4</th>\n",
       "      <td>2014</td>\n",
       "      <td>10314</td>\n",
       "      <td>Richmond</td>\n",
       "      <td>Non-Dual</td>\n",
       "      <td>Mental Diseases And Disorders</td>\n",
       "      <td>Bi-Polar Disorder</td>\n",
       "      <td>216</td>\n",
       "      <td>90</td>\n",
       "      <td>255</td>\n",
       "      <td>107</td>\n",
       "      <td>384</td>\n",
       "    </tr>\n",
       "    <tr>\n",
       "      <th>5</th>\n",
       "      <td>2012</td>\n",
       "      <td>10314</td>\n",
       "      <td>Richmond</td>\n",
       "      <td>Dual</td>\n",
       "      <td>Diabetes Mellitus</td>\n",
       "      <td>Diabetes - Juvenile Onset</td>\n",
       "      <td>38</td>\n",
       "      <td>13</td>\n",
       "      <td>23</td>\n",
       "      <td>5</td>\n",
       "      <td>8</td>\n",
       "    </tr>\n",
       "  </tbody>\n",
       "</table>\n",
       "</div>"
      ],
      "text/plain": [
       "   Year  Zip Code Primary County Dual Eligible      Major Diagnostic Category  \\\n",
       "0  2014     13339     Montgomery      Non-Dual  Mental Diseases And Disorders   \n",
       "1  2012     12570       Dutchess      Non-Dual  Mental Diseases And Disorders   \n",
       "2  2013     14612         Monroe      Non-Dual              Diabetes Mellitus   \n",
       "4  2014     10314       Richmond      Non-Dual  Mental Diseases And Disorders   \n",
       "5  2012     10314       Richmond          Dual              Diabetes Mellitus   \n",
       "\n",
       "               Episode Disease Category  Beneficiaries with Condition  \\\n",
       "0        Depressive and Other Psychoses                            62   \n",
       "1  Chronic Stress and Anxiety Diagnoses                            24   \n",
       "2                              Diabetes                           175   \n",
       "4                     Bi-Polar Disorder                           216   \n",
       "5             Diabetes - Juvenile Onset                            38   \n",
       "\n",
       "   Beneficiaries with Admissions  Total Inpatient Admissions  \\\n",
       "0                             14                          27   \n",
       "1                              5                          15   \n",
       "2                             48                          88   \n",
       "4                             90                         255   \n",
       "5                             13                          23   \n",
       "\n",
       "   Beneficiaries with ER Visits  Total ER Visits  \n",
       "0                            35              104  \n",
       "1                            12               29  \n",
       "2                            70              221  \n",
       "4                           107              384  \n",
       "5                             5                8  "
      ]
     },
     "execution_count": 37,
     "metadata": {},
     "output_type": "execute_result"
    }
   ],
   "source": [
    "data.head()"
   ]
  },
  {
   "cell_type": "markdown",
   "id": "38a494c4",
   "metadata": {},
   "source": [
    "# Now we will explore Major Diagnostic Category"
   ]
  },
  {
   "cell_type": "code",
   "execution_count": 38,
   "id": "1f223f16",
   "metadata": {},
   "outputs": [
    {
     "data": {
      "text/plain": [
       "Mental Diseases And Disorders                          31396\n",
       "Diseases And Disorders Of The Cardiovascular System    28963\n",
       "Substance Abuse                                        11345\n",
       "Diabetes Mellitus                                      10908\n",
       "Diseases And Disordes Of The Respiratory System        10766\n",
       "HIV Infection                                           1030\n",
       "Newborns And Other Neonates                               86\n",
       "Name: Major Diagnostic Category, dtype: int64"
      ]
     },
     "execution_count": 38,
     "metadata": {},
     "output_type": "execute_result"
    }
   ],
   "source": [
    "data[\"Major Diagnostic Category\"].value_counts()"
   ]
  },
  {
   "cell_type": "markdown",
   "id": "7d93ad9a",
   "metadata": {},
   "source": [
    "# Now we will explore Episode Disease Category"
   ]
  },
  {
   "cell_type": "code",
   "execution_count": 39,
   "id": "73915e08",
   "metadata": {},
   "outputs": [],
   "source": [
    "data_ep_cat = data[\"Episode Disease Category\"].value_counts()"
   ]
  },
  {
   "cell_type": "code",
   "execution_count": 40,
   "id": "96e00919",
   "metadata": {},
   "outputs": [
    {
     "data": {
      "text/plain": [
       "Hypertension                                  5446\n",
       "Depression                                    4955\n",
       "Diabetes                                      4158\n",
       "Chronic Stress and Anxiety Diagnoses          4009\n",
       "Asthma                                        3921\n",
       "                                              ... \n",
       "Coronary Graft Atherosclerosis                  27\n",
       "Eating Disorder                                 26\n",
       "Prematurity - Birthweight 750 - 999  Grams      22\n",
       "Prematurity - Birthweight < 750 Grams            3\n",
       "Schizophrenia - Catatonia                        1\n",
       "Name: Episode Disease Category, Length: 70, dtype: int64"
      ]
     },
     "execution_count": 40,
     "metadata": {},
     "output_type": "execute_result"
    }
   ],
   "source": [
    "data_ep_cat"
   ]
  },
  {
   "cell_type": "code",
   "execution_count": 41,
   "id": "1747a120",
   "metadata": {},
   "outputs": [
    {
     "data": {
      "text/plain": [
       "(94090, 11)"
      ]
     },
     "execution_count": 41,
     "metadata": {},
     "output_type": "execute_result"
    }
   ],
   "source": [
    "data = data[data[\"Episode Disease Category\"].isin(data_ep_cat[data_ep_cat.values > 100].index)]\n",
    "data.shape"
   ]
  },
  {
   "cell_type": "markdown",
   "id": "8c34b657",
   "metadata": {},
   "source": [
    "# Data analysis\n"
   ]
  },
  {
   "cell_type": "markdown",
   "id": "e74bad7e",
   "metadata": {},
   "source": [
    "## Major Diagnostic Category which has highest average ER visits"
   ]
  },
  {
   "cell_type": "code",
   "execution_count": 42,
   "id": "04bd2b21",
   "metadata": {},
   "outputs": [
    {
     "data": {
      "text/html": [
       "<div>\n",
       "<style scoped>\n",
       "    .dataframe tbody tr th:only-of-type {\n",
       "        vertical-align: middle;\n",
       "    }\n",
       "\n",
       "    .dataframe tbody tr th {\n",
       "        vertical-align: top;\n",
       "    }\n",
       "\n",
       "    .dataframe thead th {\n",
       "        text-align: right;\n",
       "    }\n",
       "</style>\n",
       "<table border=\"1\" class=\"dataframe\">\n",
       "  <thead>\n",
       "    <tr style=\"text-align: right;\">\n",
       "      <th></th>\n",
       "      <th>Major Diagnostic Category</th>\n",
       "      <th>Total ER Visits</th>\n",
       "    </tr>\n",
       "  </thead>\n",
       "  <tbody>\n",
       "    <tr>\n",
       "      <th>0</th>\n",
       "      <td>Diabetes Mellitus</td>\n",
       "      <td>90</td>\n",
       "    </tr>\n",
       "    <tr>\n",
       "      <th>1</th>\n",
       "      <td>Diseases And Disorders Of The Cardiovascular S...</td>\n",
       "      <td>90</td>\n",
       "    </tr>\n",
       "    <tr>\n",
       "      <th>2</th>\n",
       "      <td>Diseases And Disordes Of The Respiratory System</td>\n",
       "      <td>131</td>\n",
       "    </tr>\n",
       "    <tr>\n",
       "      <th>3</th>\n",
       "      <td>HIV Infection</td>\n",
       "      <td>110</td>\n",
       "    </tr>\n",
       "    <tr>\n",
       "      <th>4</th>\n",
       "      <td>Mental Diseases And Disorders</td>\n",
       "      <td>146</td>\n",
       "    </tr>\n",
       "    <tr>\n",
       "      <th>5</th>\n",
       "      <td>Substance Abuse</td>\n",
       "      <td>184</td>\n",
       "    </tr>\n",
       "  </tbody>\n",
       "</table>\n",
       "</div>"
      ],
      "text/plain": [
       "                           Major Diagnostic Category  Total ER Visits\n",
       "0                                  Diabetes Mellitus               90\n",
       "1  Diseases And Disorders Of The Cardiovascular S...               90\n",
       "2    Diseases And Disordes Of The Respiratory System              131\n",
       "3                                      HIV Infection              110\n",
       "4                      Mental Diseases And Disorders              146\n",
       "5                                    Substance Abuse              184"
      ]
     },
     "execution_count": 42,
     "metadata": {},
     "output_type": "execute_result"
    }
   ],
   "source": [
    "data.groupby(\"Major Diagnostic Category\").mean()[\"Total ER Visits\"].astype(int).reset_index()"
   ]
  },
  {
   "cell_type": "markdown",
   "id": "c677c9ed",
   "metadata": {},
   "source": [
    "## we are trying to get total number of beneficiary admissions for Episode Disease Category"
   ]
  },
  {
   "cell_type": "code",
   "execution_count": 43,
   "id": "c875b9b2",
   "metadata": {},
   "outputs": [
    {
     "data": {
      "text/html": [
       "<div>\n",
       "<style scoped>\n",
       "    .dataframe tbody tr th:only-of-type {\n",
       "        vertical-align: middle;\n",
       "    }\n",
       "\n",
       "    .dataframe tbody tr th {\n",
       "        vertical-align: top;\n",
       "    }\n",
       "\n",
       "    .dataframe thead th {\n",
       "        text-align: right;\n",
       "    }\n",
       "</style>\n",
       "<table border=\"1\" class=\"dataframe\">\n",
       "  <thead>\n",
       "    <tr style=\"text-align: right;\">\n",
       "      <th></th>\n",
       "      <th>Year</th>\n",
       "      <th>Zip Code</th>\n",
       "      <th>Primary County</th>\n",
       "      <th>Dual Eligible</th>\n",
       "      <th>Major Diagnostic Category</th>\n",
       "      <th>Episode Disease Category</th>\n",
       "      <th>Beneficiaries with Condition</th>\n",
       "      <th>Beneficiaries with Admissions</th>\n",
       "      <th>Total Inpatient Admissions</th>\n",
       "      <th>Beneficiaries with ER Visits</th>\n",
       "      <th>Total ER Visits</th>\n",
       "    </tr>\n",
       "  </thead>\n",
       "  <tbody>\n",
       "    <tr>\n",
       "      <th>0</th>\n",
       "      <td>2014</td>\n",
       "      <td>13339</td>\n",
       "      <td>Montgomery</td>\n",
       "      <td>Non-Dual</td>\n",
       "      <td>Mental Diseases And Disorders</td>\n",
       "      <td>Depressive and Other Psychoses</td>\n",
       "      <td>62</td>\n",
       "      <td>14</td>\n",
       "      <td>27</td>\n",
       "      <td>35</td>\n",
       "      <td>104</td>\n",
       "    </tr>\n",
       "    <tr>\n",
       "      <th>1</th>\n",
       "      <td>2012</td>\n",
       "      <td>12570</td>\n",
       "      <td>Dutchess</td>\n",
       "      <td>Non-Dual</td>\n",
       "      <td>Mental Diseases And Disorders</td>\n",
       "      <td>Chronic Stress and Anxiety Diagnoses</td>\n",
       "      <td>24</td>\n",
       "      <td>5</td>\n",
       "      <td>15</td>\n",
       "      <td>12</td>\n",
       "      <td>29</td>\n",
       "    </tr>\n",
       "    <tr>\n",
       "      <th>2</th>\n",
       "      <td>2013</td>\n",
       "      <td>14612</td>\n",
       "      <td>Monroe</td>\n",
       "      <td>Non-Dual</td>\n",
       "      <td>Diabetes Mellitus</td>\n",
       "      <td>Diabetes</td>\n",
       "      <td>175</td>\n",
       "      <td>48</td>\n",
       "      <td>88</td>\n",
       "      <td>70</td>\n",
       "      <td>221</td>\n",
       "    </tr>\n",
       "    <tr>\n",
       "      <th>4</th>\n",
       "      <td>2014</td>\n",
       "      <td>10314</td>\n",
       "      <td>Richmond</td>\n",
       "      <td>Non-Dual</td>\n",
       "      <td>Mental Diseases And Disorders</td>\n",
       "      <td>Bi-Polar Disorder</td>\n",
       "      <td>216</td>\n",
       "      <td>90</td>\n",
       "      <td>255</td>\n",
       "      <td>107</td>\n",
       "      <td>384</td>\n",
       "    </tr>\n",
       "    <tr>\n",
       "      <th>5</th>\n",
       "      <td>2012</td>\n",
       "      <td>10314</td>\n",
       "      <td>Richmond</td>\n",
       "      <td>Dual</td>\n",
       "      <td>Diabetes Mellitus</td>\n",
       "      <td>Diabetes - Juvenile Onset</td>\n",
       "      <td>38</td>\n",
       "      <td>13</td>\n",
       "      <td>23</td>\n",
       "      <td>5</td>\n",
       "      <td>8</td>\n",
       "    </tr>\n",
       "  </tbody>\n",
       "</table>\n",
       "</div>"
      ],
      "text/plain": [
       "   Year  Zip Code Primary County Dual Eligible      Major Diagnostic Category  \\\n",
       "0  2014     13339     Montgomery      Non-Dual  Mental Diseases And Disorders   \n",
       "1  2012     12570       Dutchess      Non-Dual  Mental Diseases And Disorders   \n",
       "2  2013     14612         Monroe      Non-Dual              Diabetes Mellitus   \n",
       "4  2014     10314       Richmond      Non-Dual  Mental Diseases And Disorders   \n",
       "5  2012     10314       Richmond          Dual              Diabetes Mellitus   \n",
       "\n",
       "               Episode Disease Category  Beneficiaries with Condition  \\\n",
       "0        Depressive and Other Psychoses                            62   \n",
       "1  Chronic Stress and Anxiety Diagnoses                            24   \n",
       "2                              Diabetes                           175   \n",
       "4                     Bi-Polar Disorder                           216   \n",
       "5             Diabetes - Juvenile Onset                            38   \n",
       "\n",
       "   Beneficiaries with Admissions  Total Inpatient Admissions  \\\n",
       "0                             14                          27   \n",
       "1                              5                          15   \n",
       "2                             48                          88   \n",
       "4                             90                         255   \n",
       "5                             13                          23   \n",
       "\n",
       "   Beneficiaries with ER Visits  Total ER Visits  \n",
       "0                            35              104  \n",
       "1                            12               29  \n",
       "2                            70              221  \n",
       "4                           107              384  \n",
       "5                             5                8  "
      ]
     },
     "execution_count": 43,
     "metadata": {},
     "output_type": "execute_result"
    }
   ],
   "source": [
    "data.head()"
   ]
  },
  {
   "cell_type": "code",
   "execution_count": 44,
   "id": "8189e69d",
   "metadata": {
    "scrolled": true
   },
   "outputs": [
    {
     "data": {
      "text/html": [
       "<div>\n",
       "<style scoped>\n",
       "    .dataframe tbody tr th:only-of-type {\n",
       "        vertical-align: middle;\n",
       "    }\n",
       "\n",
       "    .dataframe tbody tr th {\n",
       "        vertical-align: top;\n",
       "    }\n",
       "\n",
       "    .dataframe thead th {\n",
       "        text-align: right;\n",
       "    }\n",
       "</style>\n",
       "<table border=\"1\" class=\"dataframe\">\n",
       "  <thead>\n",
       "    <tr style=\"text-align: right;\">\n",
       "      <th></th>\n",
       "      <th>Episode Disease Category</th>\n",
       "      <th>Beneficiaries with Condition</th>\n",
       "    </tr>\n",
       "  </thead>\n",
       "  <tbody>\n",
       "    <tr>\n",
       "      <th>0</th>\n",
       "      <td>Hypertension</td>\n",
       "      <td>844723</td>\n",
       "    </tr>\n",
       "    <tr>\n",
       "      <th>1</th>\n",
       "      <td>Depression</td>\n",
       "      <td>673818</td>\n",
       "    </tr>\n",
       "    <tr>\n",
       "      <th>2</th>\n",
       "      <td>Diabetes</td>\n",
       "      <td>615472</td>\n",
       "    </tr>\n",
       "    <tr>\n",
       "      <th>3</th>\n",
       "      <td>Asthma</td>\n",
       "      <td>490204</td>\n",
       "    </tr>\n",
       "    <tr>\n",
       "      <th>4</th>\n",
       "      <td>Chronic Stress and Anxiety Diagnoses</td>\n",
       "      <td>461612</td>\n",
       "    </tr>\n",
       "    <tr>\n",
       "      <th>5</th>\n",
       "      <td>Depressive and Other Psychoses</td>\n",
       "      <td>403353</td>\n",
       "    </tr>\n",
       "    <tr>\n",
       "      <th>6</th>\n",
       "      <td>Schizophrenia</td>\n",
       "      <td>376837</td>\n",
       "    </tr>\n",
       "    <tr>\n",
       "      <th>7</th>\n",
       "      <td>Coronary Atherosclerosis</td>\n",
       "      <td>355649</td>\n",
       "    </tr>\n",
       "    <tr>\n",
       "      <th>8</th>\n",
       "      <td>Chronic Obstructive Pulmonary Disease and Bron...</td>\n",
       "      <td>316344</td>\n",
       "    </tr>\n",
       "    <tr>\n",
       "      <th>9</th>\n",
       "      <td>Attention Deficit / Hyperactivity Disorder</td>\n",
       "      <td>281766</td>\n",
       "    </tr>\n",
       "  </tbody>\n",
       "</table>\n",
       "</div>"
      ],
      "text/plain": [
       "                            Episode Disease Category  \\\n",
       "0                                       Hypertension   \n",
       "1                                         Depression   \n",
       "2                                           Diabetes   \n",
       "3                                             Asthma   \n",
       "4               Chronic Stress and Anxiety Diagnoses   \n",
       "5                     Depressive and Other Psychoses   \n",
       "6                                      Schizophrenia   \n",
       "7                           Coronary Atherosclerosis   \n",
       "8  Chronic Obstructive Pulmonary Disease and Bron...   \n",
       "9         Attention Deficit / Hyperactivity Disorder   \n",
       "\n",
       "   Beneficiaries with Condition  \n",
       "0                        844723  \n",
       "1                        673818  \n",
       "2                        615472  \n",
       "3                        490204  \n",
       "4                        461612  \n",
       "5                        403353  \n",
       "6                        376837  \n",
       "7                        355649  \n",
       "8                        316344  \n",
       "9                        281766  "
      ]
     },
     "execution_count": 44,
     "metadata": {},
     "output_type": "execute_result"
    }
   ],
   "source": [
    "data.groupby([\"Episode Disease Category\"]).sum()[\"Beneficiaries with Condition\"].sort_values(ascending = False).reset_index().head(10)"
   ]
  },
  {
   "cell_type": "markdown",
   "id": "0d281037",
   "metadata": {},
   "source": [
    "## Here is top County which has highest ER visits"
   ]
  },
  {
   "cell_type": "code",
   "execution_count": 45,
   "id": "8451543c",
   "metadata": {},
   "outputs": [
    {
     "data": {
      "text/html": [
       "<div>\n",
       "<style scoped>\n",
       "    .dataframe tbody tr th:only-of-type {\n",
       "        vertical-align: middle;\n",
       "    }\n",
       "\n",
       "    .dataframe tbody tr th {\n",
       "        vertical-align: top;\n",
       "    }\n",
       "\n",
       "    .dataframe thead th {\n",
       "        text-align: right;\n",
       "    }\n",
       "</style>\n",
       "<table border=\"1\" class=\"dataframe\">\n",
       "  <thead>\n",
       "    <tr style=\"text-align: right;\">\n",
       "      <th></th>\n",
       "      <th>Primary County</th>\n",
       "      <th>Total ER Visits</th>\n",
       "    </tr>\n",
       "  </thead>\n",
       "  <tbody>\n",
       "    <tr>\n",
       "      <th>0</th>\n",
       "      <td>Kings</td>\n",
       "      <td>1402445</td>\n",
       "    </tr>\n",
       "    <tr>\n",
       "      <th>1</th>\n",
       "      <td>New York</td>\n",
       "      <td>1239925</td>\n",
       "    </tr>\n",
       "    <tr>\n",
       "      <th>2</th>\n",
       "      <td>Queens</td>\n",
       "      <td>1071146</td>\n",
       "    </tr>\n",
       "    <tr>\n",
       "      <th>3</th>\n",
       "      <td>Bronx</td>\n",
       "      <td>1000481</td>\n",
       "    </tr>\n",
       "    <tr>\n",
       "      <th>4</th>\n",
       "      <td>Erie</td>\n",
       "      <td>774963</td>\n",
       "    </tr>\n",
       "    <tr>\n",
       "      <th>5</th>\n",
       "      <td>Monroe</td>\n",
       "      <td>709072</td>\n",
       "    </tr>\n",
       "    <tr>\n",
       "      <th>6</th>\n",
       "      <td>Suffolk</td>\n",
       "      <td>646764</td>\n",
       "    </tr>\n",
       "    <tr>\n",
       "      <th>7</th>\n",
       "      <td>Onondaga</td>\n",
       "      <td>426934</td>\n",
       "    </tr>\n",
       "    <tr>\n",
       "      <th>8</th>\n",
       "      <td>Westchester</td>\n",
       "      <td>384666</td>\n",
       "    </tr>\n",
       "    <tr>\n",
       "      <th>9</th>\n",
       "      <td>Nassau</td>\n",
       "      <td>356501</td>\n",
       "    </tr>\n",
       "  </tbody>\n",
       "</table>\n",
       "</div>"
      ],
      "text/plain": [
       "  Primary County  Total ER Visits\n",
       "0          Kings          1402445\n",
       "1       New York          1239925\n",
       "2         Queens          1071146\n",
       "3          Bronx          1000481\n",
       "4           Erie           774963\n",
       "5         Monroe           709072\n",
       "6        Suffolk           646764\n",
       "7       Onondaga           426934\n",
       "8    Westchester           384666\n",
       "9         Nassau           356501"
      ]
     },
     "execution_count": 45,
     "metadata": {},
     "output_type": "execute_result"
    }
   ],
   "source": [
    "data.groupby(\"Primary County\").sum()[\"Total ER Visits\"].sort_values(ascending = False).reset_index().head(10)"
   ]
  },
  {
   "cell_type": "markdown",
   "id": "a049ac48",
   "metadata": {},
   "source": [
    "## Major Diagnostic Category"
   ]
  },
  {
   "cell_type": "code",
   "execution_count": 46,
   "id": "2c1a56c1",
   "metadata": {
    "scrolled": true
   },
   "outputs": [
    {
     "name": "stdout",
     "output_type": "stream",
     "text": [
      "Major Diagnostic Category among all Count----\n"
     ]
    },
    {
     "data": {
      "text/plain": [
       "Mental Diseases And Disorders                          31369\n",
       "Diseases And Disorders Of The Cardiovascular System    28906\n",
       "Substance Abuse                                        11345\n",
       "Diabetes Mellitus                                      10855\n",
       "Diseases And Disordes Of The Respiratory System        10585\n",
       "HIV Infection                                           1030\n",
       "Name: Major Diagnostic Category, dtype: int64"
      ]
     },
     "execution_count": 46,
     "metadata": {},
     "output_type": "execute_result"
    }
   ],
   "source": [
    "print(\"Major Diagnostic Category among all Count----\")\n",
    "data[\"Major Diagnostic Category\"].value_counts()"
   ]
  },
  {
   "cell_type": "markdown",
   "id": "70a5f6d0",
   "metadata": {},
   "source": [
    "## year which has highest total ER visits"
   ]
  },
  {
   "cell_type": "code",
   "execution_count": 47,
   "id": "bed4ef62",
   "metadata": {},
   "outputs": [],
   "source": [
    "data_high_er = data.groupby([\"Year\"]).sum()[\"Total ER Visits\"].reset_index()"
   ]
  },
  {
   "cell_type": "markdown",
   "id": "0e82329e",
   "metadata": {},
   "source": [
    "## Here we are plotting Total ER visits per Year"
   ]
  },
  {
   "cell_type": "code",
   "execution_count": 48,
   "id": "24797a17",
   "metadata": {
    "scrolled": false
   },
   "outputs": [
    {
     "data": {
      "text/plain": [
       "<BarContainer object of 3 artists>"
      ]
     },
     "execution_count": 48,
     "metadata": {},
     "output_type": "execute_result"
    },
    {
     "data": {
      "image/png": "[encoded data removed]",
      "text/plain": [
       "<Figure size 640x480 with 1 Axes>"
      ]
     },
     "metadata": {},
     "output_type": "display_data"
    }
   ],
   "source": [
    "plt.title(\"Total ER visits per Year\")\n",
    "plt.ylabel(\"Total ER Visits in millions\")\n",
    "plt.xlabel(\"Year\")\n",
    "plt.bar(data_high_er[\"Year\"].astype(str),data_high_er[\"Total ER Visits\"])"
   ]
  },
  {
   "cell_type": "markdown",
   "id": "0656cabc",
   "metadata": {},
   "source": [
    "## now we go for top Major Diagnostic Category "
   ]
  },
  {
   "cell_type": "code",
   "execution_count": 49,
   "id": "c8ca894a",
   "metadata": {
    "scrolled": false
   },
   "outputs": [
    {
     "data": {
      "image/png": "[encoded data removed]",
      "text/plain": [
       "<Figure size 1200x600 with 1 Axes>"
      ]
     },
     "metadata": {},
     "output_type": "display_data"
    }
   ],
   "source": [
    "plot_digno_val = data[\"Major Diagnostic Category\"].value_counts().values\n",
    "plot_digno_idx = data[\"Major Diagnostic Category\"].value_counts().index\n",
    "plt.figure(figsize=(12,6))\n",
    "plt.pie(plot_digno_val[:5],labels = plot_digno_idx[:5], autopct = '%1.2f%%')\n",
    "plt.show()"
   ]
  },
  {
   "cell_type": "markdown",
   "id": "f44ba630",
   "metadata": {},
   "source": [
    "## here we observe county which has highest total ER"
   ]
  },
  {
   "cell_type": "code",
   "execution_count": 50,
   "id": "c09a697c",
   "metadata": {},
   "outputs": [],
   "source": [
    "data_con_plot = data.groupby([\"Primary County\"]).sum()[\"Total ER Visits\"].sort_values(ascending = False).reset_index().rename(columns = {\"Primary County\":\"county which has highes total ER\"}).head(5)"
   ]
  },
  {
   "cell_type": "code",
   "execution_count": 51,
   "id": "0419841d",
   "metadata": {
    "scrolled": true
   },
   "outputs": [
    {
     "data": {
      "image/png": "[encoded data removed]",
      "text/plain": [
       "<Figure size 640x480 with 1 Axes>"
      ]
     },
     "metadata": {},
     "output_type": "display_data"
    }
   ],
   "source": [
    "plt.title(\"county which has highes total ER\")\n",
    "plt.ylabel(\"total ER\")\n",
    "plt.xlabel(\"county\")\n",
    "plt.bar(data_con_plot[\"county which has highes total ER\"],data_con_plot[\"Total ER Visits\"])\n",
    "plt.show()"
   ]
  },
  {
   "cell_type": "markdown",
   "id": "82d65b96",
   "metadata": {},
   "source": [
    "## here we can see Episode Disease Category"
   ]
  },
  {
   "cell_type": "code",
   "execution_count": 52,
   "id": "b9488f90",
   "metadata": {
    "scrolled": false
   },
   "outputs": [
    {
     "data": {
      "image/png": "[encoded data removed]",
      "text/plain": [
       "<Figure size 1200x600 with 1 Axes>"
      ]
     },
     "metadata": {},
     "output_type": "display_data"
    }
   ],
   "source": [
    "plot_dis_val = data[\"Episode Disease Category\"].value_counts().values\n",
    "plot_dis_idx = data[\"Episode Disease Category\"].value_counts().index\n",
    "plt.figure(figsize=(12,6))\n",
    "plt.pie(plot_dis_val[:5],labels = plot_dis_idx[:5], autopct = '%1.2f%%')\n",
    "plt.show()"
   ]
  },
  {
   "cell_type": "code",
   "execution_count": null,
   "id": "38a818db",
   "metadata": {},
   "outputs": [],
   "source": []
  }
 ],
 "metadata": {
  "kernelspec": {
   "display_name": "Python 3 (ipykernel)",
   "language": "python",
   "name": "python3"
  },
  "language_info": {
   "codemirror_mode": {
    "name": "ipython",
    "version": 3
   },
   "file_extension": ".py",
   "mimetype": "text/x-python",
   "name": "python",
   "nbconvert_exporter": "python",
   "pygments_lexer": "ipython3",
   "version": "3.9.16"
  }
 },
 "nbformat": 4,
 "nbformat_minor": 5
}
